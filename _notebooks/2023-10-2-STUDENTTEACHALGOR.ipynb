{
 "cells": [
  {
   "cell_type": "markdown",
   "metadata": {},
   "source": [
    "---\n",
    "toc: false\n",
    "comments: false\n",
    "layout: post\n",
    "title: ALGORITHMS\n",
    "description: Team SRSC \n",
    "type: hacks\n",
    "courses: { csp: {week: 7} }\n",
    "---"
   ]
  },
  {
   "cell_type": "markdown",
   "metadata": {},
   "source": [
    "# ALGORITHMS \n",
    "## SRSC "
   ]
  },
  {
   "cell_type": "markdown",
   "metadata": {},
   "source": [
    "\n",
    "# <mark>BIG IDEA: A FINITE SET OF INSTRUCTIONS THAT ACCOMPLISH A SPECIFIC TASK \n",
    "\n"
   ]
  },
  {
   "cell_type": "markdown",
   "metadata": {},
   "source": [
    "## SEQUENCING \n",
    "\n",
    "### <mark> DO STEPS OF CODE IN THE ORDER SPECIFIED \n",
    "\n",
    "first step -> second step -> third step"
   ]
  },
  {
   "cell_type": "code",
   "execution_count": 9,
   "metadata": {},
   "outputs": [
    {
     "name": "stdout",
     "output_type": "stream",
     "text": [
      "double of 1is 2\n"
     ]
    }
   ],
   "source": [
    "number = int(input(\"Enter a number: \"))\n",
    "\n",
    "result = number * 2\n",
    "print(\"double of \" + str(number) + \" is \" + str(result))\n"
   ]
  },
  {
   "cell_type": "markdown",
   "metadata": {},
   "source": [
    "\n",
    "1. Create a variable based on user input <br>\n",
    "2. Multiply variable by two<br>\n",
    "3. Print out both variables at the end<br>\n",
    "\n"
   ]
  },
  {
   "cell_type": "markdown",
   "metadata": {},
   "source": [
    "## SELECTION \n",
    "\n",
    "### <mark> Choose TWO OR MORE OUTCOMES based on a DECISION or CONDITION \n"
   ]
  },
  {
   "cell_type": "code",
   "execution_count": 10,
   "metadata": {},
   "outputs": [
    {
     "name": "stdout",
     "output_type": "stream",
     "text": [
      "Even\n"
     ]
    }
   ],
   "source": [
    "number = 6\n",
    "if number % 2 == 0:\n",
    "    print(\"Even\")\n",
    "else:\n",
    "    print(\"Odd\")\n"
   ]
  },
  {
   "cell_type": "markdown",
   "metadata": {},
   "source": [
    "1. Set number to 5 <br>\n",
    "2. If number is divisible by 2 with no remainder, print \"Even\" <br>\n",
    "3. Otherwise, print \"Odd\" <br>\n"
   ]
  },
  {
   "cell_type": "markdown",
   "metadata": {},
   "source": [
    "# ITERATION \n",
    "\n",
    "## <mark> REPEAT STEPS BASED ON A DECISION or STOP when a condition is met \n",
    "\n",
    "first step -> \n",
    "second step -> \n",
    "if step 2: true -> first step \n",
    "if step 2: false -> third step \n",
    "-> fourth step "
   ]
  },
  {
   "cell_type": "code",
   "execution_count": 13,
   "metadata": {},
   "outputs": [
    {
     "name": "stdout",
     "output_type": "stream",
     "text": [
      "apple\n",
      "banana\n",
      "cherry\n"
     ]
    }
   ],
   "source": [
    "\n",
    "fruits = [\"apple\", \"banana\", \"cherry\"]\n",
    "for fruit in fruits:\n",
    "    print(fruit)\n",
    "\n"
   ]
  },
  {
   "cell_type": "markdown",
   "metadata": {},
   "source": [
    "1. Create a list called fruits <br>\n",
    "2. For each fruit in the list, print the fruit\n"
   ]
  },
  {
   "cell_type": "markdown",
   "metadata": {},
   "source": [
    "# ACTIVITY 1: Robot Pseudocode \n",
    "\n",
    "[Link to Robot Question 2](https://assets.learnosity.com/organisations/537/VR165972.g03.png)\n",
    "\n",
    "Write the pseudocode to move the robot onto the gray square. "
   ]
  },
  {
   "cell_type": "markdown",
   "metadata": {},
   "source": [
    "Available Code: <br>\n",
    "Move forward <br>\n",
    "Turn Left <br>\n",
    "Turn Right <br>\n",
    "\n",
    "\n",
    "\n"
   ]
  },
  {
   "cell_type": "markdown",
   "metadata": {},
   "source": [
    "PseudoCode here: \n",
    "Move forward\n",
    "Move forward\n",
    "Move forward\n",
    "Turn left\n",
    "Move forward\n",
    "Move forward\n",
    "Turn right\n",
    "Move forward\n",
    "Move forward\n",
    "Move forward"
   ]
  },
  {
   "cell_type": "code",
   "execution_count": 25,
   "metadata": {},
   "outputs": [
    {
     "name": "stdout",
     "output_type": "stream",
     "text": [
      "Addition\n",
      "8\n",
      "\n",
      "Subtraction\n",
      "6\n",
      "\n",
      "Multiplication\n",
      "42\n",
      "\n",
      "Float Division\n",
      "5.0\n",
      "\n",
      "Integer Division (floor division)\n",
      "5\n",
      "\n",
      "Modulus (remainder)\n",
      "1\n",
      "\n",
      "Fibonacci\n",
      "[0, 1, 1, 2, 3, 5, 8, 13, 21, 34]\n",
      "\n",
      "Factorial\n",
      "120\n"
     ]
    }
   ],
   "source": [
    "# Math Operations:\n",
    "\n",
    "print(\"Addition\") #addition\n",
    "result = 5 + 3\n",
    "print(result)  # 8\n",
    "\n",
    "print(\"\\nSubtraction\") #subtraction\n",
    "result = 10 - 4\n",
    "print(result)  # 6\n",
    "\n",
    "print(\"\\nMultiplication\") #multiplication\n",
    "result = 6 * 7\n",
    "print(result)  # 42\n",
    "\n",
    "print(\"\\nFloat Division\") #float division (float = numbers with decimal values)\n",
    "result = 20 / 4\n",
    "print(result)  # 5.0\n",
    "\n",
    "print(\"\\nInteger Division (floor division)\") #floor division\n",
    "result = 20 // 4\n",
    "print(result)  # 5\n",
    "\n",
    "print(\"\\nModulus (remainder)\") #remainder\n",
    "result = 10 % 3\n",
    "print(result)  # 1"
   ]
  },
  {
   "cell_type": "markdown",
   "metadata": {},
   "source": [
    "## Fibonacci "
   ]
  },
  {
   "cell_type": "code",
   "execution_count": 17,
   "metadata": {},
   "outputs": [
    {
     "name": "stdout",
     "output_type": "stream",
     "text": [
      "[0, 1, 1, 2, 3, 5, 8, 13, 21, 34]\n"
     ]
    }
   ],
   "source": [
    "def fibonacci(n): #fibonacci sequence \n",
    "    fib_series = [0, 1]  \n",
    "\n",
    "    while len(fib_series) < n:\n",
    "        next_number = fib_series[-1] + fib_series[-2]  \n",
    "        fib_series.append(next_number)  \n",
    "\n",
    "    return fib_series\n",
    "\n",
    "n = 10  \n",
    "result = fibonacci(n)\n",
    "print(result)  # [0, 1, 1, 2, 3, 5, 8, 13, 21, 34]\n",
    "\n",
    "# initial length of list is 2 \n",
    "# while length of list is less than amount of numbers we want in our final sequence\n",
    "# add the last two numbers of the list \n",
    "# add this value to the end of the list \n",
    "# repeat until length of list reaches n\n"
   ]
  },
  {
   "cell_type": "markdown",
   "metadata": {},
   "source": [
    "## Mini Lesson: If, Else Statements"
   ]
  },
  {
   "cell_type": "code",
   "execution_count": 5,
   "metadata": {},
   "outputs": [
    {
     "name": "stdout",
     "output_type": "stream",
     "text": [
      "0 is zero.\n"
     ]
    }
   ],
   "source": [
    "num =0\n",
    "\n",
    "if num > 0:\n",
    "    print(str(num) + \" is positive.\")\n",
    "elif num < 0:\n",
    "    print(str(num) + \" is negative.\")\n",
    "else:\n",
    "    print(str(num) + \" is zero.\")\n"
   ]
  },
  {
   "cell_type": "markdown",
   "metadata": {},
   "source": [
    "## Mini Lesson 2: For, While Loops"
   ]
  },
  {
   "cell_type": "code",
   "execution_count": 1,
   "metadata": {},
   "outputs": [
    {
     "name": "stdout",
     "output_type": "stream",
     "text": [
      "Timo\n",
      "Aditya\n",
      "Sai\n",
      "Tanav\n",
      "Aditya\n",
      "1\n",
      "2\n",
      "3\n",
      "4\n",
      "5\n"
     ]
    }
   ],
   "source": [
    "names = [\"Timo\", \"Aditya\", \"Sai\", \"Tanav\", \"Aditya\"]\n",
    "for name in names:\n",
    "    print(name)\n",
    "\n",
    "\n",
    "num = 1\n",
    "while num <= 5:\n",
    "    print(num)\n",
    "    num += 1\n"
   ]
  },
  {
   "cell_type": "markdown",
   "metadata": {},
   "source": [
    "## Mini Lesson 3: Defining Function "
   ]
  },
  {
   "cell_type": "code",
   "execution_count": null,
   "metadata": {},
   "outputs": [],
   "source": [
    "\n",
    "def calculate_square(number):\n",
    "    square = number * number\n",
    "    return square #ends function \n",
    "\n",
    "result = calculate_square(5)\n",
    "print(f\"The square of 5 is {result}\")\n"
   ]
  },
  {
   "cell_type": "markdown",
   "metadata": {},
   "source": [
    "## Mini Lesson 4: Input"
   ]
  },
  {
   "cell_type": "code",
   "execution_count": 7,
   "metadata": {},
   "outputs": [
    {
     "name": "stdout",
     "output_type": "stream",
     "text": [
      "You are asd years old\n"
     ]
    }
   ],
   "source": [
    "variable1 = input(\"How old are you?\")\n",
    "print(\"You are \" + variable1 + \" years old\")"
   ]
  },
  {
   "cell_type": "markdown",
   "metadata": {},
   "source": [
    "# ACTIVITY 2: CALCULATOR \n",
    "1. Create calculator function <br>\n",
    "2. Allow user to Choose 2 numbers and an operator <br>\n",
    "3. Perform specified operation based on input <br>\n",
    "4. Return result of calculation <br>\n"
   ]
  },
  {
   "cell_type": "code",
   "execution_count": 4,
   "metadata": {},
   "outputs": [
    {
     "name": "stdout",
     "output_type": "stream",
     "text": [
      "Options:\n",
      "Enter 'add' for addition\n",
      "Enter 'subtract' for subtraction\n",
      "Enter 'multiply' for multiplication\n",
      "Enter 'divide' for division\n",
      "Enter 'quit' to end the program\n",
      "Result: 3.0\n",
      "Options:\n",
      "Enter 'add' for addition\n",
      "Enter 'subtract' for subtraction\n",
      "Enter 'multiply' for multiplication\n",
      "Enter 'divide' for division\n",
      "Enter 'quit' to end the program\n",
      "Result: 3.0\n",
      "Options:\n",
      "Enter 'add' for addition\n",
      "Enter 'subtract' for subtraction\n",
      "Enter 'multiply' for multiplication\n",
      "Enter 'divide' for division\n",
      "Enter 'quit' to end the program\n"
     ]
    }
   ],
   "source": [
    "##YOUR WORK HERE \n",
    "##Hint: Use if else statements, defining functions, input\n",
    "\n",
    "def add(x, y):\n",
    "    return x + y\n",
    "\n",
    "# Function to subtract two numbers\n",
    "def subtract(x, y):\n",
    "    return x - y\n",
    "\n",
    "# Function to multiply two numbers\n",
    "def multiply(x, y):\n",
    "    return x * y\n",
    "\n",
    "# Function to divide two numbers\n",
    "def divide(x, y):\n",
    "    if y == 0:\n",
    "        return \"Cannot divide by zero\"\n",
    "    return x / y\n",
    "\n",
    "# Main calculator loop\n",
    "while True:\n",
    "    # Display menu\n",
    "    print(\"Options:\")\n",
    "    print(\"Enter 'add' for addition\")\n",
    "    print(\"Enter 'subtract' for subtraction\")\n",
    "    print(\"Enter 'multiply' for multiplication\")\n",
    "    print(\"Enter 'divide' for division\")\n",
    "    print(\"Enter 'quit' to end the program\")\n",
    "\n",
    "    # Take user input\n",
    "    user_choice = input(\": \")\n",
    "\n",
    "    # Check if the user wants to quit\n",
    "    if user_choice == \"quit\":\n",
    "        break\n",
    "\n",
    "    # Check if the user's choice is a valid operation\n",
    "    if user_choice in (\"add\", \"subtract\", \"multiply\", \"divide\"):\n",
    "        num1 = float(input(\"Enter first number: \"))\n",
    "        num2 = float(input(\"Enter second number: \"))\n",
    "\n",
    "        if user_choice == \"add\":\n",
    "            print(\"Result:\", add(num1, num2))\n",
    "        elif user_choice == \"subtract\":\n",
    "            print(\"Result:\", subtract(num1, num2))\n",
    "        elif user_choice == \"multiply\":\n",
    "            print(\"Result:\", multiply(num1, num2))\n",
    "        elif user_choice == \"divide\":\n",
    "            print(\"Result:\", divide(num1, num2))\n",
    "    else:\n",
    "        print(\"Invalid input. Please enter a valid operation.\")\n"
   ]
  },
  {
   "cell_type": "code",
   "execution_count": 15,
   "metadata": {},
   "outputs": [
    {
     "name": "stdout",
     "output_type": "stream",
     "text": [
      "\n",
      "String Concatenation\n",
      "Hello World\n",
      "\n",
      "String Length\n",
      "22\n",
      "\n",
      "String Indexing and Slicing\n",
      "P\n",
      "tho\n",
      "\n",
      "String Repetition (Repeating Strings)\n",
      "Repeat Repeat Repeat \n",
      "\n",
      "Palindrome Check Algorithm\n",
      "True\n",
      "False\n"
     ]
    }
   ],
   "source": [
    "# String Operations and Concatenation:\n",
    "\n",
    "print(\"\\nString Concatenation\") #add together strings\n",
    "str1 = \"Hello\"\n",
    "str2 = \"World\"\n",
    "result = str1 + \" \" + str2\n",
    "print(result)  # \"Hello World\"\n",
    "\n",
    "print(\"\\nString Length\") #length of string\n",
    "text = \"This is a sample text.\"\n",
    "length = len(text)\n",
    "print(length)  # 22\n",
    "\n",
    "print(\"\\nString Indexing and Slicing\") #string slicing \n",
    "text = \"Python\"\n",
    "first_char = text[0]\n",
    "substring = text[2:5]\n",
    "print(first_char)  # 'P'\n",
    "print(substring)  # 'tho'\n",
    "\n",
    "\n",
    "print(\"\\nString Repetition (Repeating Strings)\")\n",
    "text = \"Repeat \"\n",
    "result = text * 3\n",
    "print(result)  # \"Repeat Repeat Repeat \"\n",
    "\n",
    "# Palindrome Check Algorithm:\n",
    "\n",
    "print(\"\\nPalindrome Check Algorithm\")\n",
    "\n",
    "def is_palindrome(text):\n",
    "    text = text.replace(\" \", \"\").lower()\n",
    "    return text == text[::-1] ## == will return boolean \n",
    "\n",
    "result1 = is_palindrome(\"racecar\")\n",
    "result2 = is_palindrome(\"Hello, World!\")\n",
    "\n",
    "print(result1)  # True\n",
    "print(result2)  # False"
   ]
  },
  {
   "cell_type": "markdown",
   "metadata": {},
   "source": [
    "# ACTIVITY 3: COUNTING VOWELS\n",
    "1. Create a function that takes a word as an input <br>\n",
    "2. Use a for loop to iterate through each character of a word <br>\n",
    "3. Check how many characters in a word contain vowels <br>\n",
    "4. Return vowel number <br>"
   ]
  },
  {
   "cell_type": "code",
   "execution_count": 5,
   "metadata": {},
   "outputs": [
    {
     "name": "stdout",
     "output_type": "stream",
     "text": [
      "The number of vowels in 'Hello' is 2.\n"
     ]
    }
   ],
   "source": [
    "##YOUR WORK HERE\n",
    "def count_vowels(word):\n",
    "    vowels = \"aeiouAEIOU\"\n",
    "    vowel_count = 0\n",
    "    \n",
    "    for char in word:\n",
    "        if char in vowels:\n",
    "            vowel_count += 1\n",
    "            \n",
    "    return vowel_count\n",
    "\n",
    "# Test the function with a word\n",
    "word = \"Hello\"\n",
    "vowel_number = count_vowels(word)\n",
    "print(f\"The number of vowels in '{word}' is {vowel_number}.\")"
   ]
  },
  {
   "cell_type": "markdown",
   "metadata": {},
   "source": [
    "# <mark> HOMEWORK \n",
    "## CREATE TEXT (string) ANALYZER: <br>\n",
    "### criteria: <br>\n",
    "1. Accepts input from user <br>\n",
    "2. Counts total letters, numbers, spaces in a string <br>\n",
    "3. Counts number of vowels <br>\n",
    "4. Calculates average word length <br>\n",
    "5. Correctly displays: total # of characters (including spaces + numbers), total vowels, average word length <br>\n",
    "### other criteria: <br>\n",
    "1. ensure that program handles upper and lowercase spelling <br>\n",
    "2. Test multiple inputs to ensure accuracy \n",
    "### Criteria for above 90%: <br>\n",
    "1. Add a unique program, function, or feature not specified by criterias\n"
   ]
  },
  {
   "cell_type": "code",
   "execution_count": 10,
   "metadata": {},
   "outputs": [
    {
     "name": "stdout",
     "output_type": "stream",
     "text": [
      "\n",
      "Text Analysis:\n",
      "Total Characters: 21\n",
      "Letters: 17\n",
      "Numbers: 0\n",
      "Spaces: 3\n",
      "Vowels: 6\n",
      "Average Word Length: 4.5\n",
      "Special Characters: 1\n"
     ]
    }
   ],
   "source": [
    "def text_analyzer(text):\n",
    "    total_characters = len(text)\n",
    "    letters = sum(c.isalpha() for c in text)\n",
    "    numbers = sum(c.isdigit() for c in text)\n",
    "    spaces = text.count(' ')\n",
    "    vowels = sum(1 for c in text.lower() if c in 'aeiou')\n",
    "    words = text.split()\n",
    "    avg_word_length = sum(len(word) for word in words) / len(words) if words else 0\n",
    "    special_characters = total_characters - (letters + numbers + spaces)\n",
    "\n",
    "    result = {\n",
    "        \"Total Characters\": total_characters,\n",
    "        \"Letters\": letters,\n",
    "        \"Numbers\": numbers,\n",
    "        \"Spaces\": spaces,\n",
    "        \"Vowels\": vowels,\n",
    "        \"Average Word Length\": avg_word_length,\n",
    "        \"Special Characters\": special_characters\n",
    "    }\n",
    "    \n",
    "    return result\n",
    "\n",
    "# Accept user input and analyze the text\n",
    "user_input = input(\"Enter your text: \")\n",
    "analysis = text_analyzer(user_input)\n",
    "print(\"\\nText Analysis:\")\n",
    "for key, value in analysis.items():\n",
    "    print(f\"{key}: {value}\")\n"
   ]
  }
 ],
 "metadata": {
  "kernelspec": {
   "display_name": "Python 3 (ipykernel)",
   "language": "python",
   "name": "python3"
  },
  "language_info": {
   "codemirror_mode": {
    "name": "ipython",
    "version": 3
   },
   "file_extension": ".py",
   "mimetype": "text/x-python",
   "name": "python",
   "nbconvert_exporter": "python",
   "pygments_lexer": "ipython3",
   "version": "3.11.4"
  }
 },
 "nbformat": 4,
 "nbformat_minor": 4
}
