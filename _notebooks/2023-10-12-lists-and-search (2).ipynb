{
 "cells": [
  {
   "cell_type": "markdown",
   "id": "a2cc529f",
   "metadata": {},
   "source": [
    "---\n",
    "toc: true\n",
    "comments: false\n",
    "layout: post\n",
    "title: Homework 10/19\n",
    "description: \n",
    "type: hacks\n",
    "courses: { csse: {week: 1}, csp: {week: 7, categories: [4.A]}, csa: {week: 0} }\n",
    "categories: [C1.4]\n",
    "---"
   ]
  },
  {
   "cell_type": "markdown",
   "id": "c704695f",
   "metadata": {},
   "source": [
    "# Made by: Ryan, Daniel, Saaras, Will, and Andrew"
   ]
  },
  {
   "cell_type": "markdown",
   "id": "e3260b38",
   "metadata": {},
   "source": [
    "## Python lists Operations"
   ]
  },
  {
   "cell_type": "markdown",
   "id": "2d948d76",
   "metadata": {},
   "source": [
    "### Append function\n",
    "# From the Data Abstractions Unit we Learned about lists and how they can store multiple variables \n",
    "# Today we're going to show you how to add items to lists utilizing the append option"
   ]
  },
  {
   "cell_type": "code",
   "execution_count": 3,
   "id": "5e8e0948",
   "metadata": {},
   "outputs": [
    {
     "name": "stdout",
     "output_type": "stream",
     "text": [
      "['hi', 'no']\n"
     ]
    }
   ],
   "source": [
    "\n",
    "lst = [\"hi\"]\n",
    "lst.append(\"no\")\n",
    "print(lst)"
   ]
  },
  {
   "cell_type": "markdown",
   "id": "4dacd1fd",
   "metadata": {},
   "source": [
    "### Insert function\n",
    "- The insert function allows you to append items to different lists at a specific location.\n",
    "- Let's first understand how it may work through pseudocode\n",
    "\n",
    "#### Exmaple 1\n",
    "INSERT alist, pos, value \n",
    "INSERT alist, 1, \"hi\" \n",
    "- Here the alist represents your list you want to append an item to\n",
    "- The position is where on the list the item will be generated in respect to the current list\n",
    "- Finally, the value is the item you're adding to your list. \n",
    "- So in the code provided below, in position 1 you insert the item \"hi\" into alist\n",
    "\n",
    "### Your turn!!!!\n",
    "- Turn this pseudocode into python\n",
    "- How may we want to implement this on python? Think back to the data abstraction unit. \n",
    "- ( Hint: Think about the differences between psueodcode and python )"
   ]
  },
  {
   "cell_type": "code",
   "execution_count": 2,
   "id": "1c6c3810",
   "metadata": {},
   "outputs": [
    {
     "name": "stdout",
     "output_type": "stream",
     "text": [
      "[1, 2, 3, 4, 5, ' maybe', 6, 7, 8, 9]\n"
     ]
    }
   ],
   "source": [
    "# Creating a list with some initial elements\n",
    "lst = [1, 2, 3, 4, 5, 6, 7, 8, 9]\n",
    "\n",
    "# Inserting the string \" maybe\" at index 5 (the 6th position in the list)\n",
    "lst.insert(5, \" maybe\")\n",
    "\n",
    "# Printing the modified list to the console\n",
    "print(lst)"
   ]
  },
  {
   "cell_type": "markdown",
   "id": "ed4f8f87",
   "metadata": {},
   "source": [
    "### Remove function\n",
    "- The remove functions allows you to remove specific items at a specific position on the list\n",
    "\n",
    "#### Pseudocode example\n",
    "- REMOVE aList, pos\n",
    "\n"
   ]
  },
  {
   "cell_type": "code",
   "execution_count": 135,
   "id": "d29c6491",
   "metadata": {},
   "outputs": [
    {
     "name": "stdout",
     "output_type": "stream",
     "text": [
      "['hi', 'no', ' maybe', ' yes']\n",
      "hi\n"
     ]
    }
   ],
   "source": [
    "lst.remove(lst[0])\n",
    "print(lst)\n",
    "## You can also access the list by the position, this is called list indexing\n",
    "print(lst[0])"
   ]
  },
  {
   "cell_type": "markdown",
   "id": "82b37677",
   "metadata": {},
   "source": [
    "### Let's do some Collegeboard exercises\n",
    "- In the following list:\n",
    "  - nums = [65, 89, 92, 35, 84, 78, 28, 75]\n",
    "- Figure out what the minimum number in the list, WITHOUT using the other methods and premade functions.\n",
    "\n",
    "### Second question:\n",
    "- Let's say we have a list called \"animals\" from a survey that stores whether or not they prefer \"cats\" or \"dogs\" as strings in this list.\n",
    "- Transverse this list and tell me the total amount cats and dogs in the list\n"
   ]
  },
  {
   "cell_type": "code",
   "execution_count": 4,
   "id": "72025150",
   "metadata": {},
   "outputs": [
    {
     "name": "stdout",
     "output_type": "stream",
     "text": [
      "28 is the lowest number in the nums list\n"
     ]
    }
   ],
   "source": [
    "nums = [65, 89, 92, 35, 84, 78, 28, 75]\n",
    "\n",
    "# Assuming the first number in the list is the smallest initially\n",
    "min_num = nums[0]\n",
    "\n",
    "# Iterating through the list to find the minimum number\n",
    "for num in nums:\n",
    "    if num < min_num:\n",
    "        min_num = num\n",
    "\n",
    "print(min_num, \"is the lowest number in the nums list\")"
   ]
  },
  {
   "cell_type": "code",
   "execution_count": 5,
   "id": "4e9f4651",
   "metadata": {},
   "outputs": [
    {
     "name": "stdout",
     "output_type": "stream",
     "text": [
      "Total cats: 4\n",
      "Total dogs: 3\n"
     ]
    }
   ],
   "source": [
    "# Assuming this is your animals list\n",
    "animals = [\"cats\", \"dogs\", \"cats\", \"dogs\", \"dogs\", \"cats\", \"cats\"]\n",
    "\n",
    "# Initializing counters for cats and dogs\n",
    "cats_count = 0\n",
    "dogs_count = 0\n",
    "\n",
    "# Iterating through the list to count cats and dogs\n",
    "for animal in animals:\n",
    "    if animal == \"cats\":\n",
    "        cats_count += 1\n",
    "    elif animal == \"dogs\":\n",
    "        dogs_count += 1\n",
    "\n",
    "print(\"Total cats:\", cats_count)\n",
    "print(\"Total dogs:\", dogs_count)"
   ]
  },
  {
   "cell_type": "markdown",
   "id": "bb09ae30",
   "metadata": {},
   "source": [
    "### ITS BINARY SEARCH TIME\n",
    "- By the end of this you should be able to know what binary search is\n",
    "- What the time complexity of binary search is\n",
    "- How to derive the time complexity for binary search"
   ]
  },
  {
   "cell_type": "markdown",
   "id": "f8476c40",
   "metadata": {},
   "source": [
    "### HOW DOES BINARY SEARCH WORK\n",
    "- pay attention to the demonstration in the front\n",
    "- volunteers will be called up\n",
    "- candy if you participate"
   ]
  },
  {
   "cell_type": "markdown",
   "id": "58a5568c",
   "metadata": {},
   "source": [
    "Binary search is like a guessing game where you halve your options at each step. Imagine you're finding a name in a phone book:\n",
    "\n",
    "1. **First Step:** You open the book in the middle.\n",
    "2. **Second Step:** Is the name before or after the middle? You eliminate half of the remaining names.\n",
    "3. **Repeat:** Keep dividing until you find the name or run out of names to check.\n",
    "4. **MAKE SURE YOUR LIST IS SORTED** Binary search will not work if the list isn't sorted\n",
    "\n",
    "Because you're halving the options each time, it's super quick. If you have \\(n\\) names, it takes at most \\( \\log_2(n) \\) steps to find a name. This efficiency, where the time it takes doesn't increase much as the number of names in the phone book grows, is what makes binary search awesome! Binary search is also more optimal for searcihng compared to a linear search for anything that doesnt include small lists..\n"
   ]
  },
  {
   "cell_type": "markdown",
   "id": "aab4dcf5",
   "metadata": {},
   "source": [
    "### Demo Being shown above\n",
    "The sorted list we have currently, has integers [1, 3, 4, 5, 13, 20], we are currently trying to find the index of the the integer 1 within the list\n",
    "\n",
    "How it works is we start at element 0 for our left position and element 5 for our rightwards position\n",
    "\n",
    "Our middle position becaomes 5 because ((5+0)//2)=3 so element 3\n",
    "\n",
    "Our element 3 within the list gives us the integer 5\n",
    "\n",
    "We then realize that oh 5 is greater then 3 so we have to move leftwards\n",
    "\n",
    "Then to make the algorithm more efficient we move the r backwards 1 beacuse we have already checked at this point\n",
    "\n",
    "So now we can reduce the list to [1, 3, 4]\n",
    "\n",
    "Now we can repeat the same steps as before and find the middle of this list which is 3\n",
    "\n",
    "We realize thats not equivalent to the integer 1, and our value is still too great\n",
    "\n",
    "So we move the middle leftwards 1 positioon\n",
    "\n",
    "AND BAM THATS HOW YOU CAN DO BINARY SEARCH\n",
    "\n",
    "\n"
   ]
  },
  {
   "cell_type": "code",
   "execution_count": 6,
   "id": "df0e0b53",
   "metadata": {},
   "outputs": [
    {
     "name": "stdout",
     "output_type": "stream",
     "text": [
      "1\n"
     ]
    }
   ],
   "source": [
    "#example of binary search in python has a time complexity of O(n)\n",
    "def binarySearch(arr, x):\n",
    "    l= 0 #our minimum element\n",
    "    r=len(arr) - 1 # our maximum element\n",
    "    while l <= r:\n",
    "        mid = l + (r - l) // 2 \n",
    "        if arr[mid] == x:\n",
    "            return mid\n",
    "        elif arr[mid] < x:\n",
    "            l = mid + 1\n",
    "        else:\n",
    "            r = mid - 1\n",
    "    return -1\n",
    "\n",
    "\n",
    "sorted_list = [2, 5, 8, 12, 16]\n",
    "target = 3\n",
    "result = binarySearch(sorted_list, 5)\n",
    "print(result)\n"
   ]
  },
  {
   "cell_type": "code",
   "execution_count": 109,
   "id": "1b892fe0",
   "metadata": {},
   "outputs": [
    {
     "name": "stdout",
     "output_type": "stream",
     "text": [
      "1\n"
     ]
    }
   ],
   "source": [
    "#Linear Search Approach in O(n)\n",
    "def linear_search(target, sorted_list):\n",
    "    for o in range(len(sorted_list)):\n",
    "        if sorted_list[o]==target:\n",
    "            return(o)\n",
    "#Does not have to be a sorted list for the sake of comparison I just made it sorted\n",
    "sorted_list = [1, 3, 5, 7, 9, 11, 13, 15]\n",
    "target = 3\n",
    "result = linear_search(target, sorted_list)\n",
    "print(result)\n"
   ]
  },
  {
   "cell_type": "markdown",
   "id": "97b3f083",
   "metadata": {},
   "source": [
    "Using linear search make a list with elements [\"eggs\", \"milk\", \"butter\", \"cake\"]\n",
    "Then randomize an element 1-4 within that list and find the index of it via linear search"
   ]
  },
  {
   "cell_type": "code",
   "execution_count": 13,
   "id": "d6617031",
   "metadata": {},
   "outputs": [
    {
     "name": "stdout",
     "output_type": "stream",
     "text": [
      "Chosen index: 3\n",
      "Item at chosen index: cake\n",
      "Found index of cake is: 3\n"
     ]
    }
   ],
   "source": [
    "import random\n",
    "\n",
    "# Defining the list\n",
    "items = [\"eggs\", \"milk\", \"butter\", \"cake\"]\n",
    "\n",
    "# Randomly choosing an index from the list\n",
    "index = random.randint(0, len(items) - 1)  # since list is 0-indexed\n",
    "\n",
    "# Printing the chosen index and item\n",
    "print(\"Chosen index:\", index)\n",
    "print(\"Item at chosen index:\", items[index])\n",
    "\n",
    "# Using linear search to find the index of the chosen item\n",
    "found_index = -1\n",
    "for i, item in enumerate(items):\n",
    "    if item == items[index]:\n",
    "        found_index = i\n",
    "        break\n",
    "\n",
    "# Printing the found index\n",
    "if found_index != -1:\n",
    "    print(\"Found index of\", items[index], \"is:\", found_index)\n",
    "else:\n",
    "    print(items[index], \"not found in the list\")\n"
   ]
  },
  {
   "cell_type": "markdown",
   "id": "abd6924e",
   "metadata": {},
   "source": [
    "How big O Notation works in the context works in the case of search methods.\n",
    "\n",
    "Lets first explain for linear search, because linear search only requires a iterative approach all we use is O(n), this is due\n",
    "to the loop infinitely going until it finds the element and then after that it doesnt do anything.\n",
    "\n",
    "However binary search is special in this sense because you don't actually have to go through an entire loop how you can picture this is by imagining a list with 1000000 integer values in it and my target value is 59223, binary search makes it so that you just divide the list by 2 until you find the element. It's a lot faster then the iterative approach, where I keep going until I get to 59223 what this does is it allows me to speed up the time and memory usage I take. because I keep dividing the list by 2 allowing for me to form a logarithm because its just repetitive multiplication of 1/2 and then that makes it so that O(log(n)) becomes the time complexity for the Binary search algorithm.\n",
    "\n",
    "\n"
   ]
  },
  {
   "cell_type": "markdown",
   "id": "b849fad1",
   "metadata": {},
   "source": [
    "HW TIME!!!!!!!!!!!!!!!!!!\n",
    "We want you guys to make a guessing game below, where utilizing binary search you can within a list of 100 sorted elemments find, a value that your code will randomize using random.randint(). We want you to also make it so every iteration output the number is higher up or lower until you actually get to the answer. We also want number of tries it took to guess the number. Points will be awarded for customizations and potential changes.\n",
    "\n",
    "Extra credit (for above 95%): Send a screenshot on me to slack showing you can do this: https://codeforces.com/contest/1201/problem/C"
   ]
  },
  {
   "cell_type": "code",
   "execution_count": 14,
   "id": "34575e73",
   "metadata": {},
   "outputs": [
    {
     "name": "stdout",
     "output_type": "stream",
     "text": [
      "Try 1: The guess is 50\n",
      "The number is higher.\n",
      "Try 2: The guess is 75\n",
      "The number is lower.\n",
      "Try 3: The guess is 62\n",
      "The number is higher.\n",
      "Try 4: The guess is 68\n",
      "The number is lower.\n",
      "Try 5: The guess is 65\n",
      "The number is higher.\n",
      "Try 6: The guess is 66\n",
      "The number is higher.\n",
      "Try 7: The guess is 67\n",
      "Congratulations! The number is 67 and it took 7 tries to guess it.\n"
     ]
    }
   ],
   "source": [
    "import random\n",
    "\n",
    "# Generate a random number between 1 and 100\n",
    "target_number = random.randint(1, 100)\n",
    "\n",
    "# Define the sorted list of numbers\n",
    "numbers = list(range(1, 101))\n",
    "\n",
    "# Initialize variables for binary search\n",
    "low = 0\n",
    "high = len(numbers) - 1\n",
    "tries = 0\n",
    "\n",
    "# Binary search to guess the number\n",
    "while low <= high:\n",
    "    mid = (low + high) // 2\n",
    "    guess = numbers[mid]\n",
    "    tries += 1\n",
    "\n",
    "    print(f\"Try {tries}: The guess is {guess}\")\n",
    "\n",
    "    if guess < target_number:\n",
    "        print(\"The number is higher.\")\n",
    "        low = mid + 1\n",
    "    elif guess > target_number:\n",
    "        print(\"The number is lower.\")\n",
    "        high = mid - 1\n",
    "    else:\n",
    "        print(f\"Congratulations! The number is {guess} and it took {tries} tries to guess it.\")\n",
    "        break"
   ]
  },
  {
   "cell_type": "markdown",
   "id": "fb348a05",
   "metadata": {},
   "source": [
    "HW Part 2: This time instead of utilizing binary search to do it I want you to use linear search to get to the same value and I want you to output the number of iterations it took to get there. Aswell as a congrats message upon getting there points will be awarded upon creativity and completion."
   ]
  },
  {
   "cell_type": "code",
   "execution_count": 15,
   "id": "8ba0fe5a",
   "metadata": {},
   "outputs": [
    {
     "name": "stdout",
     "output_type": "stream",
     "text": [
      "Welcome to the Guessing Game!\n",
      "I have chosen a number between 1 and 100.\n",
      "Try 1: Guessing 1...\n",
      "The number is higher.\n",
      "Try 2: Guessing 2...\n",
      "The number is higher.\n",
      "Try 3: Guessing 3...\n",
      "The number is higher.\n",
      "Try 4: Guessing 4...\n",
      "The number is higher.\n",
      "Try 5: Guessing 5...\n",
      "The number is higher.\n",
      "Try 6: Guessing 6...\n",
      "The number is higher.\n",
      "Try 7: Guessing 7...\n",
      "The number is higher.\n",
      "Try 8: Guessing 8...\n",
      "The number is higher.\n",
      "Try 9: Guessing 9...\n",
      "The number is higher.\n",
      "Try 10: Guessing 10...\n",
      "The number is higher.\n",
      "Try 11: Guessing 11...\n",
      "The number is higher.\n",
      "Try 12: Guessing 12...\n",
      "The number is higher.\n",
      "Try 13: Guessing 13...\n",
      "The number is higher.\n",
      "Try 14: Guessing 14...\n",
      "The number is higher.\n",
      "Try 15: Guessing 15...\n",
      "The number is higher.\n",
      "Try 16: Guessing 16...\n",
      "The number is higher.\n",
      "Try 17: Guessing 17...\n",
      "The number is higher.\n",
      "Try 18: Guessing 18...\n",
      "The number is higher.\n",
      "Try 19: Guessing 19...\n",
      "The number is higher.\n",
      "Try 20: Guessing 20...\n",
      "The number is higher.\n",
      "Try 21: Guessing 21...\n",
      "The number is higher.\n",
      "Try 22: Guessing 22...\n",
      "The number is higher.\n",
      "Try 23: Guessing 23...\n",
      "The number is higher.\n",
      "Try 24: Guessing 24...\n",
      "The number is higher.\n",
      "Try 25: Guessing 25...\n",
      "The number is higher.\n",
      "Try 26: Guessing 26...\n",
      "The number is higher.\n",
      "Try 27: Guessing 27...\n",
      "The number is higher.\n",
      "Try 28: Guessing 28...\n",
      "The number is higher.\n",
      "Try 29: Guessing 29...\n",
      "The number is higher.\n",
      "Try 30: Guessing 30...\n",
      "The number is higher.\n",
      "Try 31: Guessing 31...\n",
      "The number is higher.\n",
      "Try 32: Guessing 32...\n",
      "The number is higher.\n",
      "Try 33: Guessing 33...\n",
      "The number is higher.\n",
      "Try 34: Guessing 34...\n",
      "The number is higher.\n",
      "Try 35: Guessing 35...\n",
      "The number is higher.\n",
      "Try 36: Guessing 36...\n",
      "The number is higher.\n",
      "Try 37: Guessing 37...\n",
      "The number is higher.\n",
      "Try 38: Guessing 38...\n",
      "The number is higher.\n",
      "Try 39: Guessing 39...\n",
      "The number is higher.\n",
      "Try 40: Guessing 40...\n",
      "The number is higher.\n",
      "Try 41: Guessing 41...\n",
      "The number is higher.\n",
      "Try 42: Guessing 42...\n",
      "The number is higher.\n",
      "Try 43: Guessing 43...\n",
      "The number is higher.\n",
      "Try 44: Guessing 44...\n",
      "The number is higher.\n",
      "Try 45: Guessing 45...\n",
      "The number is higher.\n",
      "Try 46: Guessing 46...\n",
      "The number is higher.\n",
      "Try 47: Guessing 47...\n",
      "The number is higher.\n",
      "Try 48: Guessing 48...\n",
      "The number is higher.\n",
      "Try 49: Guessing 49...\n",
      "The number is higher.\n",
      "Try 50: Guessing 50...\n",
      "The number is higher.\n",
      "Try 51: Guessing 51...\n",
      "The number is higher.\n",
      "Try 52: Guessing 52...\n",
      "The number is higher.\n",
      "Try 53: Guessing 53...\n",
      "The number is higher.\n",
      "Try 54: Guessing 54...\n",
      "The number is higher.\n",
      "Try 55: Guessing 55...\n",
      "The number is higher.\n",
      "Try 56: Guessing 56...\n",
      "The number is higher.\n",
      "Try 57: Guessing 57...\n",
      "The number is higher.\n",
      "Try 58: Guessing 58...\n",
      "The number is higher.\n",
      "Try 59: Guessing 59...\n",
      "The number is higher.\n",
      "Try 60: Guessing 60...\n",
      "The number is higher.\n",
      "Try 61: Guessing 61...\n",
      "The number is higher.\n",
      "Try 62: Guessing 62...\n",
      "The number is higher.\n",
      "Try 63: Guessing 63...\n",
      "The number is higher.\n",
      "Try 64: Guessing 64...\n",
      "The number is higher.\n",
      "Try 65: Guessing 65...\n",
      "The number is higher.\n",
      "Try 66: Guessing 66...\n",
      "The number is higher.\n",
      "Try 67: Guessing 67...\n",
      "The number is higher.\n",
      "Try 68: Guessing 68...\n",
      "The number is higher.\n",
      "Try 69: Guessing 69...\n",
      "The number is higher.\n",
      "Try 70: Guessing 70...\n",
      "The number is higher.\n",
      "Try 71: Guessing 71...\n",
      "The number is higher.\n",
      "Try 72: Guessing 72...\n",
      "The number is higher.\n",
      "Try 73: Guessing 73...\n",
      "The number is higher.\n",
      "Try 74: Guessing 74...\n",
      "\n",
      "Congratulations! You've found the number 74.\n",
      "It took you 74 tries to guess it.\n",
      "🎉🥳🎊 You're a star! 🌟✨💫\n"
     ]
    }
   ],
   "source": [
    "import random\n",
    "\n",
    "# Generate a random number between 1 and 100\n",
    "target_number = random.randint(1, 100)\n",
    "\n",
    "# Print welcoming message\n",
    "print(\"Welcome to the Guessing Game!\")\n",
    "print(\"I have chosen a number between 1 and 100.\")\n",
    "\n",
    "# Initialize the number of tries\n",
    "tries = 0\n",
    "\n",
    "# Linear search to guess the number\n",
    "for guess in range(1, 101):\n",
    "    tries += 1\n",
    "    print(f\"Try {tries}: Guessing {guess}...\")\n",
    "\n",
    "    if guess < target_number:\n",
    "        print(\"The number is higher.\")\n",
    "    elif guess > target_number:\n",
    "        print(\"The number is lower.\")\n",
    "    else:\n",
    "        print(f\"\\nCongratulations! You've found the number {guess}.\")\n",
    "        print(f\"It took you {tries} tries to guess it.\")\n",
    "        print(\"🎉🥳🎊 You're a star! 🌟✨💫\")\n",
    "        break"
   ]
  }
 ],
 "metadata": {
  "kernelspec": {
   "display_name": "Python 3 (ipykernel)",
   "language": "python",
   "name": "python3"
  },
  "language_info": {
   "codemirror_mode": {
    "name": "ipython",
    "version": 3
   },
   "file_extension": ".py",
   "mimetype": "text/x-python",
   "name": "python",
   "nbconvert_exporter": "python",
   "pygments_lexer": "ipython3",
   "version": "3.11.4"
  }
 },
 "nbformat": 4,
 "nbformat_minor": 5
}
