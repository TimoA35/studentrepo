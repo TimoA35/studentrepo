{
 "cells": [
  {
   "cell_type": "markdown",
   "metadata": {},
   "source": [
    "---\n",
    "toc: false\n",
    "comments: false\n",
    "layout: post\n",
    "title: Boolean, If Lesson\n",
    "description: Team LEIA\n",
    "type: hacks\n",
    "courses: { compsci: {week: 8} }\n",
    "---"
   ]
  },
  {
   "cell_type": "markdown",
   "metadata": {},
   "source": [
    "# Boolean\n",
    "\n",
    "- A Boolean value is either true or false.\n",
    "- A Boolean expression produces a Boolean value (true or false) when evaluated."
   ]
  },
  {
   "cell_type": "markdown",
   "metadata": {},
   "source": [
    "## <mark>Conditional (\"if\") statements</mark>\n",
    "\n",
    "- Affect the sequential flow of control by executing different statements based on the value of a Boolean expression."
   ]
  },
  {
   "cell_type": "code",
   "execution_count": null,
   "metadata": {
    "vscode": {
     "languageId": "html"
    }
   },
   "outputs": [],
   "source": [
    "IF (condition)\n",
    "{\n",
    "\t<block of statements>\n",
    "}\n",
    "\n",
    "The code in <block of statements> is executed if the Boolean expression condition evaluates to true; no action is taken if condition evaluates to false.\n",
    "\n",
    "IF (condition)\n",
    "{\n",
    "\t<block of statements>\n",
    "}\n",
    "ELSE\n",
    "{\n",
    "\t<second block of statements>\n",
    "}\n",
    "\n",
    "The code in the first <block of statements> is executed if the Boolean expression condition evaluates to true; otherwise, the code in <second block of statements> is executed."
   ]
  },
  {
   "cell_type": "markdown",
   "metadata": {},
   "source": [
    "<b>Example:</b> Calculate the sum of 2 numbers. If the sum is greater than 10, display 10; otherwise, display the sum."
   ]
  },
  {
   "cell_type": "code",
   "execution_count": null,
   "metadata": {
    "vscode": {
     "languageId": "html"
    }
   },
   "outputs": [],
   "source": [
    "num1 = INPUT\n",
    "num2 = INPUT\n",
    "sum = num1 + num2\n",
    "IF (sum > 10)\n",
    "{\n",
    "\tDISPLAY (10)\n",
    "}\n",
    "ELSE\n",
    "{\n",
    "\tDISPLAY (sum)\n",
    "}"
   ]
  },
  {
   "cell_type": "markdown",
   "metadata": {},
   "source": [
    "# Hack 1\n",
    "\n",
    "- Add a variable that represents an age.\n",
    "\n",
    "- Add an 'if' and 'print' function that says \"You are an adult\" if your age is greater than or equal to 18.\n",
    "\n",
    "- Make a function that prints \"You are a minor\" with the else function."
   ]
  },
  {
   "cell_type": "code",
   "execution_count": 2,
   "metadata": {},
   "outputs": [
    {
     "name": "stdout",
     "output_type": "stream",
     "text": [
      "You are an adult\n"
     ]
    }
   ],
   "source": [
    "## YOUR CODE HERE\n",
    "# A variable representing an age\n",
    "age = 20  # You can change this value to test with different ages\n",
    "\n",
    "# An 'if' statement to check if the age is greater than or equal to 18\n",
    "if age >= 18:\n",
    "    print(\"You are an adult\")\n",
    "else:\n",
    "    print(\"You are a minor\")\n"
   ]
  },
  {
   "cell_type": "markdown",
   "metadata": {},
   "source": [
    "## <mark><b>Relational operators:</b></mark> \n",
    "- Used to test the relationship between 2 variables, expressions, or values. These relational operators are used for comparisons and they evaluate to a Boolean value (true or false).\n",
    "\n",
    "<b>Ex.</b> a == b evaluates to true if a and b are equal, otherwise evaluates to false\n",
    "\n",
    "- a == b (equals)\t\n",
    "- a != b (not equal to)\n",
    "- a > b (greater than)\n",
    "- a < b (less than)\n",
    "- a >= b (greater than or equal to)\n",
    "- a <= b (less than or equal to)"
   ]
  },
  {
   "cell_type": "markdown",
   "metadata": {},
   "source": [
    "<b>Example:</b> The legal age to work in California is 14 years old. How would we write a Boolean expression to check if someone is at least 14 years old?\n",
    "\n",
    "age >= 14"
   ]
  },
  {
   "cell_type": "markdown",
   "metadata": {},
   "source": [
    "<b>Example:</b> Write a Boolean expression to check if the average of height1, height2, and height3 is at least 65 inches.\n",
    "\n",
    "(height1 + height2 + height3) / 3 >= 65"
   ]
  },
  {
   "cell_type": "markdown",
   "metadata": {},
   "source": [
    "# Hack 2\n",
    "\n",
    "- Make a variable called 'is_raining' and set it to 'True\".\n",
    "\n",
    "- Make an if statement that prints \"Bring an umbrella!\" if it is true\n",
    "\n",
    "- Make an else statement that says \"The weather is clear\"."
   ]
  },
  {
   "cell_type": "code",
   "execution_count": 3,
   "metadata": {},
   "outputs": [
    {
     "name": "stdout",
     "output_type": "stream",
     "text": [
      "Bring an umbrella!\n"
     ]
    }
   ],
   "source": [
    "## YOUR CODE HERE\n",
    "# A variable named 'is_raining' set to True\n",
    "is_raining = True  # You can change this to False to test the other condition\n",
    "\n",
    "# An 'if' statement to check if 'is_raining' is True\n",
    "if is_raining:\n",
    "    print(\"Bring an umbrella!\")\n",
    "else:\n",
    "    print(\"The weather is clear.\")\n"
   ]
  },
  {
   "cell_type": "markdown",
   "metadata": {},
   "source": [
    "## <mark><b>Logical operators:</b></mark>\n",
    "Used to evaluate multiple conditions to produce a single Boolean value.\n",
    "\n",
    "- <b>NOT</b>\tevaluates to true if condition is false, otherwise evaluates to false\n",
    "- <b>AND</b>\tevaluates to true if both conditions are true, otherwise evaluates to false\n",
    "- <b>OR</b>\tevaluates to true if either condition is true or if both conditions are true, otherwise evaluates to false"
   ]
  },
  {
   "cell_type": "markdown",
   "metadata": {},
   "source": [
    "<b>Example:</b> You win the game if you score at least 10 points and have 5 lives left or if you score at least 50 points and have more than 0 lives left. Write the Boolean expression for this scenario.\n",
    "\n",
    "(score >= 10 AND lives == 5) OR (score == 50 AND lives > 0)"
   ]
  },
  {
   "cell_type": "markdown",
   "metadata": {},
   "source": [
    "## <mark><b>Relational and logical operators:</b></mark>\n",
    "\n",
    "<b>Example:</b> These expressions are all different but will produce the same result.\n",
    "\n",
    "- age >= 16\n",
    "- age > 16 OR age == 16\n",
    "- NOT age < 16"
   ]
  },
  {
   "cell_type": "markdown",
   "metadata": {},
   "source": [
    "# Hack 3\n",
    "\n",
    "- Make a function to randomize numbers between 0 and 100 to be assigned to variables a and b using random.randint\n",
    "\n",
    "- Print the values of the variables\n",
    "\n",
    "- Print the relationship of the variables; a is more than, same as, or less than b"
   ]
  },
  {
   "cell_type": "code",
   "execution_count": 4,
   "metadata": {},
   "outputs": [
    {
     "name": "stdout",
     "output_type": "stream",
     "text": [
      "a: 51\n",
      "b: 31\n",
      "a is more than b\n"
     ]
    }
   ],
   "source": [
    "## YOUR CODE HERE\n",
    "import random\n",
    "\n",
    "# Function to randomize numbers between 0 and 100\n",
    "def randomize_numbers():\n",
    "    a = random.randint(0, 100)\n",
    "    b = random.randint(0, 100)\n",
    "    print(f\"a: {a}\")\n",
    "    print(f\"b: {b}\")\n",
    "\n",
    "    if a > b:\n",
    "        print(\"a is more than b\")\n",
    "    elif a == b:\n",
    "        print(\"a is the same as b\")\n",
    "    else:\n",
    "        print(\"a is less than b\")\n",
    "\n",
    "# Call the function\n",
    "randomize_numbers()\n"
   ]
  },
  {
   "cell_type": "markdown",
   "metadata": {},
   "source": [
    "## <b>Homework</b>\n",
    "\n",
    "### Criteria for above 90%:\n",
    "- Add more questions relating to Boolean rather than only one per topic (ideas: expand on conditional statements, relational/logical operators)\n",
    "- Add a way to organize the user scores (possibly some kind of leaderboard, keep track of high score vs. current score, etc. Get creative!)\n",
    "- Remember to test your code to make sure it functions correctly."
   ]
  },
  {
   "cell_type": "code",
   "execution_count": 5,
   "metadata": {},
   "outputs": [
    {
     "name": "stdout",
     "output_type": "stream",
     "text": [
      "Hello, Tim running /opt/homebrew/opt/python@3.11/bin/python3.11\n",
      "You will be asked several questions.\n",
      "Question: True or False: Boolean values can only be True or False.\n",
      "Correct!\n",
      "Question: Which operator is used to compare two values for equality? (==, =, ===, eq)\n",
      "Correct!\n",
      "Question: Which keyword is used to create a conditional statement? (if, cond, when, check)\n",
      "Correct!\n",
      "Question: Which operator is used to check if one value is greater than another? (>, <, >=, =>)\n",
      "Correct!\n",
      "Question: Which logical operator is used to check if both conditions are true? (and, or, not, xor)\n",
      "Incorrect. The correct answer is: and\n",
      "Tim, you scored 4/5\n",
      "\n",
      "Leaderboard:\n",
      "1. 4/5\n",
      "Thank you for participating!\n"
     ]
    }
   ],
   "source": [
    "# Import necessary modules\n",
    "import sys  # Module to access system-related information\n",
    "\n",
    "# Function to ask a question and get a response\n",
    "def question_with_response(prompt, correct_answer):\n",
    "    print(\"Question: \" + prompt)\n",
    "    answer = input().strip().lower()\n",
    "    if answer == correct_answer.lower():\n",
    "        print(\"Correct!\")\n",
    "        return 1\n",
    "    else:\n",
    "        print(\"Incorrect. The correct answer is: \" + correct_answer)\n",
    "        return 0\n",
    "\n",
    "# Keep track of user scores\n",
    "scores = []\n",
    "\n",
    "# Collect the student's name\n",
    "user_name = input(\"Enter your name: \")\n",
    "print('Hello, ' + user_name + \" running \" + sys.executable)\n",
    "\n",
    "while True:\n",
    "    print(\"You will be asked several questions.\")\n",
    "    answer = input(\"Are you ready to take a test? (yes/no) \").lower().strip()\n",
    "    \n",
    "    if answer == \"no\":\n",
    "        print(\"Okay, goodbye!\")\n",
    "        break\n",
    "    elif answer != \"yes\":\n",
    "        print(\"Invalid response. Please answer with 'yes' or 'no'.\")\n",
    "        continue\n",
    "\n",
    "    correct = 0\n",
    "\n",
    "    # Question 1\n",
    "    correct += question_with_response(\"True or False: Boolean values can only be True or False.\", \"True\")\n",
    "\n",
    "    # Question 2\n",
    "    correct += question_with_response(\"Which operator is used to compare two values for equality? (==, =, ===, eq)\", \"==\")\n",
    "\n",
    "    # Question 3\n",
    "    correct += question_with_response(\"Which keyword is used to create a conditional statement? (if, cond, when, check)\", \"if\")\n",
    "\n",
    "    # Question 4\n",
    "    correct += question_with_response(\"Which operator is used to check if one value is greater than another? (>, <, >=, =>)\", \">\")\n",
    "\n",
    "    # Question 5\n",
    "    correct += question_with_response(\"Which logical operator is used to check if both conditions are true? (and, or, not, xor)\", \"and\")\n",
    "\n",
    "    # Display the score\n",
    "    print(user_name + \", you scored \" + str(correct) + \"/5\")\n",
    "    \n",
    "    # Add score to the scores list\n",
    "    scores.append(correct)\n",
    "\n",
    "    # Display leaderboard\n",
    "    print(\"\\nLeaderboard:\")\n",
    "    sorted_scores = sorted(scores, reverse=True)\n",
    "    for i, score in enumerate(sorted_scores):\n",
    "        print(f\"{i+1}. {score}/5\")\n",
    "    \n",
    "    # Ask if they want to take the test again\n",
    "    answer = input(\"Do you want to take the test again? (yes/no) \").lower().strip()\n",
    "    if answer != \"yes\":\n",
    "        print(\"Thank you for participating!\")\n",
    "        break\n"
   ]
  }
 ],
 "metadata": {
  "kernelspec": {
   "display_name": "Python 3",
   "language": "python",
   "name": "python3"
  },
  "language_info": {
   "codemirror_mode": {
    "name": "ipython",
    "version": 3
   },
   "file_extension": ".py",
   "mimetype": "text/x-python",
   "name": "python",
   "nbconvert_exporter": "python",
   "pygments_lexer": "ipython3",
   "version": "3.11.4"
  }
 },
 "nbformat": 4,
 "nbformat_minor": 2
}
